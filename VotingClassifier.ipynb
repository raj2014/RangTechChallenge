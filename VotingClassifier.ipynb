{
 "cells": [
  {
   "cell_type": "code",
   "execution_count": 14,
   "metadata": {
    "collapsed": false
   },
   "outputs": [
    {
     "name": "stdout",
     "output_type": "stream",
     "text": [
      "('Cust_status', 'object')\n",
      "('Trans24', 'object')\n",
      "('Trans25', 'object')\n",
      "('Trans26', 'object')\n",
      "('Trans27', 'object')\n"
     ]
    }
   ],
   "source": [
    "from sklearn.cross_validation import StratifiedKFold\n",
    "from sklearn.ensemble import RandomForestClassifier, ExtraTreesClassifier, GradientBoostingClassifier,ExtraTreesRegressor\n",
    "from sklearn.linear_model import LogisticRegression\n",
    "import pandas as pd\n",
    "import numpy as np\n",
    "\n",
    "# Reading input train and test data\n",
    "train = pd.read_csv(\"train.csv\")\n",
    "test=pd.read_csv(\"test.csv\")\n",
    "\n",
    "# Fill NA values\n",
    "train=train.fillna(value=-10)\n",
    "test=test.fillna(value=-10)\n",
    "\n",
    "# get response variable\n",
    "target=train['Active_Customer']\n",
    "train.drop(['Active_Customer','Cust_id'],axis=1,inplace=True)\n",
    "\n",
    "# saving test id\n",
    "testID=test['Cust_id']\n",
    "test.drop(['Cust_id'],axis=1,inplace=True)\n",
    "\n",
    "# Checking test and train descriptions\n",
    "#train.describe()\n",
    "#test.describe()\n",
    "\n",
    "# collecting the number of train instances\n",
    "num_train=train.shape[0]\n",
    "\n",
    "# concatenate train and test to a single object\n",
    "df=pd.concat([train,test])\n",
    "\n",
    "#df.describe()\n",
    "\n",
    "# Converting dtype of character objects to categorical values\n",
    "for column in df:\n",
    "    if str(df[column].dtype)=='object':\n",
    "        print(column,str(df[column].dtype))\n",
    "        df[column] = df[column].astype('category')       "
   ]
  },
  {
   "cell_type": "code",
   "execution_count": 15,
   "metadata": {
    "collapsed": false
   },
   "outputs": [
    {
     "name": "stdout",
     "output_type": "stream",
     "text": [
      "255\n",
      "[202, 203, 204, 205, 206, 207, 208, 209, 210, 211, 212, 213, 214, 215, 216, 217, 218, 219, 220, 221, 222, 223, 224, 225, 226, 227, 228, 229, 230, 231, 232, 233, 234, 235, 236, 237, 238, 239, 240, 241, 242, 243, 244, 245, 246, 247, 248, 249]\n"
     ]
    }
   ],
   "source": [
    "# Dummy encoding for the categorical variables\n",
    "# drop_first not set for 0.17 version of pandas\n",
    "df=pd.get_dummies(df,drop_first=True)\n",
    "df.describe()\n",
    "\n",
    "# Fill NA values\n",
    "df=df.fillna(value=-10)\n",
    "\n",
    "\n",
    "# Collecting the promotion columns\n",
    "promotion_index=[]\n",
    "id=0\n",
    "for column in df:\n",
    "    if column.find('Promotion')!=-1:\n",
    "        promotion_index.append(id)\n",
    "    id=id+1\n",
    "print id\n",
    "print promotion_index"
   ]
  },
  {
   "cell_type": "code",
   "execution_count": 16,
   "metadata": {
    "collapsed": true
   },
   "outputs": [],
   "source": [
    "# Functions,code for feature engineering\n",
    "\n",
    "def getCounts(x):\n",
    "    count=0\n",
    "    for i in x:\n",
    "        if i==0:\n",
    "            count=count+1\n",
    "    return count\n",
    "\n",
    "def naCounts(x):\n",
    "    count=0\n",
    "    for i in x:\n",
    "        if i==-10:\n",
    "            count=count+1\n",
    "    return count\n",
    "\n",
    "def getnum_promotions(x,promotion_index):\n",
    "    count=0\n",
    "    for i in promotion_index:\n",
    "        if x[i]!=-10 and x[i]>0:\n",
    "            count=count+1\n",
    "    return count\n",
    "\n",
    "def getsum_promotions(x,promotion_index):\n",
    "    sum=0\n",
    "    for i in promotion_index:\n",
    "        if x[i]!=-10 and x[i]>0:\n",
    "            sum=sum+x[i]\n",
    "    return sum\n",
    "\n",
    "\n",
    "\n",
    "#sum of zeros across the instances\n",
    "df['zeroCounts']=df.apply(getCounts,axis=1)\n",
    "\n",
    "\n",
    "\n",
    "#sum of NAs across the instances\n",
    "df['negativeCounts']=df.apply(naCounts,axis=1)\n",
    "\n",
    "\n",
    "#sum of promotions across the instances\n",
    "df['promotionCounts']=df.apply(lambda x : getnum_promotions(x,promotion_index),axis=1)\n",
    "\n",
    "\n",
    "#totalnumber of promotions not equal to zeros\n",
    "df['sum_promotionCounts'] =df.apply(lambda x : getsum_promotions(x,promotion_index),axis=1)\n",
    "\n",
    "interactions2way=[('col1','col2')]\n",
    "\n",
    "for A, B in interactions2way:\n",
    "    feat = \"_\".join([A, B])\n",
    "    df[feat] = df[A] - df[B]\n",
    "\n",
    "\n"
   ]
  },
  {
   "cell_type": "code",
   "execution_count": 3,
   "metadata": {
    "collapsed": false
   },
   "outputs": [],
   "source": [
    "# # Block to check K Nearest Neighbour Classifier\n",
    "# from sklearn.preprocessing import MinMaxScaler\n",
    "# from sklearn import neighbors\n",
    "# df = MinMaxScaler().fit_transform(df)\n",
    "#clf = neighbors.KNeighborsClassifier(n_neighbors=1000, weights='distance',algorithm='auto',n_jobs=2)\n",
    "\n",
    "gbt= GradientBoostingClassifier(loss='deviance',learning_rate=0.02, subsample=0.9, \n",
    "                               random_state=1,max_depth=6, n_estimators=160,verbose=1)\n",
    "scores=cross_validation.cross_val_score(gbt,df.iloc[0:num_train,],target,cv=5,scoring='accuracy')\n",
    "print scores\n",
    "print(\"Accuracy: %f (+/- %f)\" % (scores.mean(), scores.std() * 2))"
   ]
  },
  {
   "cell_type": "code",
   "execution_count": 17,
   "metadata": {
    "collapsed": false
   },
   "outputs": [
    {
     "name": "stdout",
     "output_type": "stream",
     "text": [
      "25766\n"
     ]
    }
   ],
   "source": [
    "# Training a extra trees classifier\n",
    "\n",
    "from sklearn.grid_search import GridSearchCV, RandomizedSearchCV\n",
    "from sklearn.ensemble import VotingClassifier\n",
    "from sklearn import metrics\n",
    "from sklearn import cross_validation\n",
    "\n",
    "et1 = ExtraTreesClassifier(n_estimators=600,max_features= 80,criterion= 'entropy',min_samples_split= 2,\n",
    "                          max_depth= 60, min_samples_leaf= 2,random_state=1,\n",
    "                          verbose=1,n_jobs = 3)\n",
    "\n",
    "et2= ExtraTreesClassifier(n_estimators=600,max_features= 80,criterion= 'gini',min_samples_split= 2,\n",
    "                          max_depth= 60, min_samples_leaf= 2,random_state=1,\n",
    "                          verbose=1,n_jobs = 3)\n",
    "\n",
    "gbt1= GradientBoostingClassifier(loss='deviance',learning_rate=0.02, subsample=0.9, \n",
    "                               random_state=1,max_depth=6, n_estimators=160,verbose=1)\n",
    "\n",
    "gbt2= GradientBoostingClassifier(loss='deviance',learning_rate=0.01, subsample=0.8, \n",
    "                               random_state=2,max_depth=5, n_estimators=100,verbose=1)\n",
    "\n",
    "rf1= RandomForestClassifier(n_estimators=600, n_jobs=3,max_features=40,max_depth=60,criterion='entropy',\n",
    "                           random_state=1,verbose=1)\n",
    "\n",
    "rf2= RandomForestClassifier(n_estimators=600, n_jobs=3,max_features=20,criterion='gini',\n",
    "                           random_state=5,verbose=1)\n",
    "\n",
    "eclf = VotingClassifier(estimators=[('c1', et1), ('c2', gbt1),\n",
    "                                    ('c3', rf1),('b1', et1), ('b2', gbt2),\n",
    "                                    ('b3', rf2)],\n",
    "                        voting='soft', weights=[0.1,0.3,0.1,0.1,0.3,0.1])\n",
    "\n",
    "import numpy as np\n",
    "predictions=np.zeros((num_train))\n",
    "print predictions.shape[0]"
   ]
  },
  {
   "cell_type": "code",
   "execution_count": 18,
   "metadata": {
    "collapsed": false
   },
   "outputs": [
    {
     "name": "stderr",
     "output_type": "stream",
     "text": [
      "[Parallel(n_jobs=3)]: Done  44 tasks      | elapsed:    8.6s\n",
      "[Parallel(n_jobs=3)]: Done 194 tasks      | elapsed:   39.6s\n",
      "[Parallel(n_jobs=3)]: Done 444 tasks      | elapsed:  1.6min\n",
      "[Parallel(n_jobs=3)]: Done 600 out of 600 | elapsed:  2.1min finished\n"
     ]
    },
    {
     "name": "stdout",
     "output_type": "stream",
     "text": [
      "Fold 1\n",
      "      Iter       Train Loss      OOB Improve   Remaining Time \n",
      "         1           1.3784           0.0072            2.32m\n",
      "         2           1.3707           0.0065            2.25m\n",
      "         3           1.3635           0.0059            2.21m\n",
      "         4           1.3562           0.0056            2.25m\n",
      "         5           1.3497           0.0056            2.25m\n",
      "         6           1.3433           0.0058            2.24m\n",
      "         7           1.3369           0.0053            2.21m\n",
      "         8           1.3308           0.0058            2.19m\n",
      "         9           1.3248           0.0051            2.16m\n",
      "        10           1.3190           0.0049            2.14m\n",
      "        20           1.2709           0.0039            1.98m\n",
      "        30           1.2337           0.0024            1.85m\n",
      "        40           1.2038           0.0018            1.72m\n",
      "        50           1.1802           0.0010            1.57m\n",
      "        60           1.1638           0.0008            1.42m\n",
      "        70           1.1457           0.0004            1.27m\n",
      "        80           1.1351           0.0006            1.12m\n",
      "        90           1.1234           0.0005           58.43s\n",
      "       100           1.1090           0.0002           49.76s"
     ]
    },
    {
     "name": "stderr",
     "output_type": "stream",
     "text": [
      "[Parallel(n_jobs=3)]: Done  44 tasks      | elapsed:    6.7s\n",
      "[Parallel(n_jobs=3)]: Done 194 tasks      | elapsed:   29.8s\n",
      "[Parallel(n_jobs=3)]: Done 444 tasks      | elapsed:  1.2min\n",
      "[Parallel(n_jobs=3)]: Done 600 out of 600 | elapsed:  1.6min finished\n",
      "[Parallel(n_jobs=3)]: Done  44 tasks      | elapsed:    9.0s\n",
      "[Parallel(n_jobs=3)]: Done 194 tasks      | elapsed:   39.2s\n",
      "[Parallel(n_jobs=3)]: Done 444 tasks      | elapsed:  1.5min\n",
      "[Parallel(n_jobs=3)]: Done 600 out of 600 | elapsed:  2.0min finished\n"
     ]
    },
    {
     "name": "stdout",
     "output_type": "stream",
     "text": [
      "\n",
      "      Iter       Train Loss      OOB Improve   Remaining Time \n",
      "         1           1.3827           0.0034           53.46s\n",
      "         2           1.3791           0.0032           53.12s\n",
      "         3           1.3758           0.0033           57.23s\n",
      "         4           1.3723           0.0030           59.02s\n",
      "         5           1.3691           0.0031           58.90s\n",
      "         6           1.3659           0.0030           58.55s\n",
      "         7           1.3623           0.0029           57.65s\n",
      "         8           1.3595           0.0028           56.50s\n",
      "         9           1.3564           0.0028           55.75s\n",
      "        10           1.3534           0.0027           54.55s\n",
      "        20           1.3261           0.0024           46.16s\n",
      "        30           1.3009           0.0019           39.32s\n",
      "        40           1.2801           0.0015           33.69s\n",
      "        50           1.2623           0.0013           28.11s\n",
      "        60           1.2495           0.0012           22.33s\n",
      "        70           1.2380           0.0010           16.72s\n",
      "        80           1.2222           0.0008           11.10s\n",
      "        90           1.2164           0.0007            5.53s\n",
      "       100           1.2062           0.0005            0.00s"
     ]
    },
    {
     "name": "stderr",
     "output_type": "stream",
     "text": [
      "[Parallel(n_jobs=3)]: Done  44 tasks      | elapsed:    2.8s\n",
      "[Parallel(n_jobs=3)]: Done 194 tasks      | elapsed:   13.0s\n",
      "[Parallel(n_jobs=3)]: Done 444 tasks      | elapsed:   29.7s\n",
      "[Parallel(n_jobs=3)]: Done 600 out of 600 | elapsed:   39.9s finished\n",
      "[Parallel(n_jobs=3)]: Done  44 tasks      | elapsed:    0.0s\n",
      "[Parallel(n_jobs=3)]: Done 194 tasks      | elapsed:    0.2s\n",
      "[Parallel(n_jobs=3)]: Done 444 tasks      | elapsed:    0.4s\n",
      "[Parallel(n_jobs=3)]: Done 600 out of 600 | elapsed:    0.6s finished\n",
      "[Parallel(n_jobs=3)]: Done  44 tasks      | elapsed:    0.0s\n",
      "[Parallel(n_jobs=3)]: Done 194 tasks      | elapsed:    0.1s\n",
      "[Parallel(n_jobs=3)]: Done 444 tasks      | elapsed:    0.4s\n",
      "[Parallel(n_jobs=3)]: Done 600 out of 600 | elapsed:    0.5s finished\n",
      "[Parallel(n_jobs=3)]: Done  44 tasks      | elapsed:    0.0s\n",
      "[Parallel(n_jobs=3)]: Done 194 tasks      | elapsed:    0.1s\n",
      "[Parallel(n_jobs=3)]: Done 444 tasks      | elapsed:    0.4s\n",
      "[Parallel(n_jobs=3)]: Done 600 out of 600 | elapsed:    0.6s finished\n",
      "[Parallel(n_jobs=3)]: Done  44 tasks      | elapsed:    0.0s\n",
      "[Parallel(n_jobs=3)]: Done 194 tasks      | elapsed:    0.1s\n",
      "[Parallel(n_jobs=3)]: Done 444 tasks      | elapsed:    0.4s\n",
      "[Parallel(n_jobs=3)]: Done 600 out of 600 | elapsed:    0.5s finished\n"
     ]
    },
    {
     "name": "stdout",
     "output_type": "stream",
     "text": [
      "\n",
      "Fold"
     ]
    },
    {
     "name": "stderr",
     "output_type": "stream",
     "text": [
      "[Parallel(n_jobs=3)]: Done  44 tasks      | elapsed:    8.7s\n",
      "[Parallel(n_jobs=3)]: Done 194 tasks      | elapsed:   38.2s\n",
      "[Parallel(n_jobs=3)]: Done 444 tasks      | elapsed:  1.5min\n",
      "[Parallel(n_jobs=3)]: Done 600 out of 600 | elapsed:  2.1min finished\n"
     ]
    },
    {
     "name": "stdout",
     "output_type": "stream",
     "text": [
      " 2\n",
      "      Iter       Train Loss      OOB Improve   Remaining Time \n",
      "         1           1.3785           0.0072            2.54m\n",
      "         2           1.3708           0.0066            2.50m\n",
      "         3           1.3634           0.0062            2.44m\n",
      "         4           1.3563           0.0062            2.41m\n",
      "         5           1.3493           0.0058            2.37m\n",
      "         6           1.3429           0.0061            2.35m\n",
      "         7           1.3364           0.0055            2.33m\n",
      "         8           1.3302           0.0053            2.32m\n",
      "         9           1.3244           0.0054            2.30m\n",
      "        10           1.3183           0.0046            2.29m\n",
      "        20           1.2700           0.0035            2.08m\n",
      "        30           1.2321           0.0024            1.99m\n",
      "        40           1.2026           0.0012            1.84m\n",
      "        50           1.1797           0.0009            1.68m\n",
      "        60           1.1634           0.0006            1.53m\n",
      "        70           1.1454           0.0005            1.38m\n",
      "        80           1.1344           0.0007            1.21m\n",
      "        90           1.1223           0.0001            1.06m\n",
      "       100           1.1106           0.0003           54.36s"
     ]
    },
    {
     "name": "stderr",
     "output_type": "stream",
     "text": [
      "[Parallel(n_jobs=3)]: Done  44 tasks      | elapsed:    7.8s\n",
      "[Parallel(n_jobs=3)]: Done 194 tasks      | elapsed:   34.5s\n",
      "[Parallel(n_jobs=3)]: Done 444 tasks      | elapsed:  1.3min\n",
      "[Parallel(n_jobs=3)]: Done 600 out of 600 | elapsed:  1.8min finished\n",
      "[Parallel(n_jobs=3)]: Done  44 tasks      | elapsed:   10.3s\n",
      "[Parallel(n_jobs=3)]: Done 194 tasks      | elapsed:   44.5s\n",
      "[Parallel(n_jobs=3)]: Done 444 tasks      | elapsed:  1.7min\n",
      "[Parallel(n_jobs=3)]: Done 600 out of 600 | elapsed:  2.3min finished\n"
     ]
    },
    {
     "name": "stdout",
     "output_type": "stream",
     "text": [
      "\n",
      "      Iter       Train Loss      OOB Improve   Remaining Time \n",
      "         1           1.3826           0.0034           59.50s\n",
      "         2           1.3791           0.0034           59.63s\n",
      "         3           1.3757           0.0034           58.62s\n",
      "         4           1.3721           0.0032           57.86s\n",
      "         5           1.3688           0.0031           57.23s\n",
      "         6           1.3656           0.0031           56.68s\n",
      "         7           1.3621           0.0029           56.17s\n",
      "         8           1.3591           0.0029           55.52s\n",
      "         9           1.3563           0.0029           54.96s\n",
      "        10           1.3529           0.0028           54.46s\n",
      "        20           1.3248           0.0023           48.49s\n",
      "        30           1.3009           0.0018           42.25s\n",
      "        40           1.2801           0.0016           36.21s\n",
      "        50           1.2619           0.0013           30.17s\n",
      "        60           1.2489           0.0011           24.10s\n",
      "        70           1.2373           0.0011           18.09s\n",
      "        80           1.2235           0.0008           12.06s\n",
      "        90           1.2145           0.0007            6.02s\n",
      "       100           1.2060           0.0006            0.00s"
     ]
    },
    {
     "name": "stderr",
     "output_type": "stream",
     "text": [
      "[Parallel(n_jobs=3)]: Done  44 tasks      | elapsed:    3.2s\n",
      "[Parallel(n_jobs=3)]: Done 194 tasks      | elapsed:   14.1s\n",
      "[Parallel(n_jobs=3)]: Done 444 tasks      | elapsed:   32.3s\n",
      "[Parallel(n_jobs=3)]: Done 600 out of 600 | elapsed:   43.8s finished\n",
      "[Parallel(n_jobs=3)]: Done  44 tasks      | elapsed:    0.0s\n",
      "[Parallel(n_jobs=3)]: Done 194 tasks      | elapsed:    0.2s\n",
      "[Parallel(n_jobs=3)]: Done 444 tasks      | elapsed:    0.5s\n",
      "[Parallel(n_jobs=3)]: Done 600 out of 600 | elapsed:    0.7s finished\n",
      "[Parallel(n_jobs=3)]: Done  44 tasks      | elapsed:    0.0s\n",
      "[Parallel(n_jobs=3)]: Done 194 tasks      | elapsed:    0.1s\n",
      "[Parallel(n_jobs=3)]: Done 444 tasks      | elapsed:    0.4s\n",
      "[Parallel(n_jobs=3)]: Done 600 out of 600 | elapsed:    0.6s finished\n",
      "[Parallel(n_jobs=3)]: Done  44 tasks      | elapsed:    0.0s\n",
      "[Parallel(n_jobs=3)]: Done 194 tasks      | elapsed:    0.2s\n",
      "[Parallel(n_jobs=3)]: Done 444 tasks      | elapsed:    0.5s\n",
      "[Parallel(n_jobs=3)]: Done 600 out of 600 | elapsed:    0.7s finished\n",
      "[Parallel(n_jobs=3)]: Done  44 tasks      | elapsed:    0.0s\n",
      "[Parallel(n_jobs=3)]: Done 194 tasks      | elapsed:    0.1s\n",
      "[Parallel(n_jobs=3)]: Done 444 tasks      | elapsed:    0.4s\n",
      "[Parallel(n_jobs=3)]: Done 600 out of 600 | elapsed:    0.6s finished\n"
     ]
    },
    {
     "name": "stdout",
     "output_type": "stream",
     "text": [
      "\n",
      "Fold"
     ]
    },
    {
     "name": "stderr",
     "output_type": "stream",
     "text": [
      "[Parallel(n_jobs=3)]: Done  44 tasks      | elapsed:    9.9s\n",
      "[Parallel(n_jobs=3)]: Done 194 tasks      | elapsed:   43.2s\n",
      "[Parallel(n_jobs=3)]: Done 444 tasks      | elapsed:  1.7min\n",
      "[Parallel(n_jobs=3)]: Done 600 out of 600 | elapsed:  2.2min finished\n"
     ]
    },
    {
     "name": "stdout",
     "output_type": "stream",
     "text": [
      " 3\n",
      "      Iter       Train Loss      OOB Improve   Remaining Time \n",
      "         1           1.3783           0.0072            2.57m\n",
      "         2           1.3707           0.0065            2.52m\n",
      "         3           1.3633           0.0064            2.51m\n",
      "         4           1.3562           0.0060            2.48m\n",
      "         5           1.3490           0.0056            2.47m\n",
      "         6           1.3429           0.0061            2.45m\n",
      "         7           1.3358           0.0050            2.44m\n",
      "         8           1.3299           0.0050            2.41m\n",
      "         9           1.3239           0.0051            2.40m\n",
      "        10           1.3176           0.0045            2.38m\n",
      "        20           1.2687           0.0034            2.22m\n",
      "        30           1.2312           0.0026            2.05m\n",
      "        40           1.2016           0.0015            1.88m\n",
      "        50           1.1794           0.0011            1.72m\n",
      "        60           1.1618           0.0008            1.56m\n",
      "        70           1.1454           0.0005            1.39m\n",
      "        80           1.1338           0.0005            1.23m\n",
      "        90           1.1178           0.0003            1.07m\n",
      "       100           1.1085           0.0003           54.85s"
     ]
    },
    {
     "name": "stderr",
     "output_type": "stream",
     "text": [
      "[Parallel(n_jobs=3)]: Done  44 tasks      | elapsed:    7.7s\n",
      "[Parallel(n_jobs=3)]: Done 194 tasks      | elapsed:   34.3s\n",
      "[Parallel(n_jobs=3)]: Done 444 tasks      | elapsed:  1.3min\n",
      "[Parallel(n_jobs=3)]: Done 600 out of 600 | elapsed:  1.7min finished\n",
      "[Parallel(n_jobs=3)]: Done  44 tasks      | elapsed:    9.9s\n",
      "[Parallel(n_jobs=3)]: Done 194 tasks      | elapsed:   43.4s\n",
      "[Parallel(n_jobs=3)]: Done 444 tasks      | elapsed:  1.7min\n",
      "[Parallel(n_jobs=3)]: Done 600 out of 600 | elapsed:  2.2min finished\n"
     ]
    },
    {
     "name": "stdout",
     "output_type": "stream",
     "text": [
      "\n",
      "      Iter       Train Loss      OOB Improve   Remaining Time \n",
      "         1           1.3826           0.0035           59.50s\n",
      "         2           1.3790           0.0033           58.80s\n",
      "         3           1.3756           0.0034           57.97s\n",
      "         4           1.3719           0.0031           57.38s\n",
      "         5           1.3686           0.0032           56.68s\n",
      "         6           1.3654           0.0031           56.04s\n",
      "         7           1.3620           0.0031           55.44s\n",
      "         8           1.3585           0.0028           54.86s\n",
      "         9           1.3556           0.0028           54.25s\n",
      "        10           1.3525           0.0028           53.60s\n",
      "        20           1.3248           0.0024           47.47s\n",
      "        30           1.3003           0.0020           41.48s\n",
      "        40           1.2790           0.0015           35.54s\n",
      "        50           1.2623           0.0013           29.61s\n",
      "        60           1.2479           0.0012           23.66s\n",
      "        70           1.2364           0.0011           17.72s\n",
      "        80           1.2223           0.0008           11.81s\n",
      "        90           1.2135           0.0007            5.90s\n",
      "       100           1.2057           0.0006            0.00s"
     ]
    },
    {
     "name": "stderr",
     "output_type": "stream",
     "text": [
      "[Parallel(n_jobs=3)]: Done  44 tasks      | elapsed:    3.1s\n",
      "[Parallel(n_jobs=3)]: Done 194 tasks      | elapsed:   13.9s\n",
      "[Parallel(n_jobs=3)]: Done 444 tasks      | elapsed:   32.1s\n",
      "[Parallel(n_jobs=3)]: Done 600 out of 600 | elapsed:   43.4s finished\n",
      "[Parallel(n_jobs=3)]: Done  44 tasks      | elapsed:    0.0s\n",
      "[Parallel(n_jobs=3)]: Done 194 tasks      | elapsed:    0.1s\n",
      "[Parallel(n_jobs=3)]: Done 444 tasks      | elapsed:    0.5s\n",
      "[Parallel(n_jobs=3)]: Done 600 out of 600 | elapsed:    0.7s finished\n",
      "[Parallel(n_jobs=3)]: Done  44 tasks      | elapsed:    0.0s\n",
      "[Parallel(n_jobs=3)]: Done 194 tasks      | elapsed:    0.1s\n",
      "[Parallel(n_jobs=3)]: Done 444 tasks      | elapsed:    0.4s\n",
      "[Parallel(n_jobs=3)]: Done 600 out of 600 | elapsed:    0.6s finished\n",
      "[Parallel(n_jobs=3)]: Done  44 tasks      | elapsed:    0.0s\n",
      "[Parallel(n_jobs=3)]: Done 194 tasks      | elapsed:    0.1s\n",
      "[Parallel(n_jobs=3)]: Done 444 tasks      | elapsed:    0.5s\n",
      "[Parallel(n_jobs=3)]: Done 600 out of 600 | elapsed:    0.7s finished\n",
      "[Parallel(n_jobs=3)]: Done  44 tasks      | elapsed:    0.0s\n",
      "[Parallel(n_jobs=3)]: Done 194 tasks      | elapsed:    0.1s\n",
      "[Parallel(n_jobs=3)]: Done 444 tasks      | elapsed:    0.4s\n",
      "[Parallel(n_jobs=3)]: Done 600 out of 600 | elapsed:    0.6s finished\n"
     ]
    },
    {
     "name": "stdout",
     "output_type": "stream",
     "text": [
      "\n",
      "Fold"
     ]
    },
    {
     "name": "stderr",
     "output_type": "stream",
     "text": [
      "[Parallel(n_jobs=3)]: Done  44 tasks      | elapsed:   10.0s\n",
      "[Parallel(n_jobs=3)]: Done 194 tasks      | elapsed:   42.9s\n",
      "[Parallel(n_jobs=3)]: Done 444 tasks      | elapsed:  1.6min\n",
      "[Parallel(n_jobs=3)]: Done 600 out of 600 | elapsed:  2.2min finished\n"
     ]
    },
    {
     "name": "stdout",
     "output_type": "stream",
     "text": [
      " 4\n",
      "      Iter       Train Loss      OOB Improve   Remaining Time \n",
      "         1           1.3781           0.0072            2.56m\n",
      "         2           1.3704           0.0067            2.54m\n",
      "         3           1.3628           0.0059            2.46m\n",
      "         4           1.3556           0.0060            2.42m\n",
      "         5           1.3487           0.0059            2.39m\n",
      "         6           1.3422           0.0058            2.36m\n",
      "         7           1.3361           0.0062            2.34m\n",
      "         8           1.3293           0.0052            2.32m\n",
      "         9           1.3228           0.0050            2.30m\n",
      "        10           1.3169           0.0047            2.29m\n",
      "        20           1.2667           0.0034            2.11m\n",
      "        30           1.2283           0.0020            1.96m\n",
      "        40           1.2008           0.0019            1.80m\n",
      "        50           1.1752           0.0010            1.64m\n",
      "        60           1.1566           0.0005            1.49m\n",
      "        70           1.1419           0.0003            1.33m\n",
      "        80           1.1287           0.0003            1.18m\n",
      "        90           1.1150           0.0001            1.03m\n",
      "       100           1.1029           0.0001           52.54s"
     ]
    },
    {
     "name": "stderr",
     "output_type": "stream",
     "text": [
      "[Parallel(n_jobs=3)]: Done  44 tasks      | elapsed:    7.7s\n",
      "[Parallel(n_jobs=3)]: Done 194 tasks      | elapsed:   36.0s\n",
      "[Parallel(n_jobs=3)]: Done 444 tasks      | elapsed:  1.4min\n",
      "[Parallel(n_jobs=3)]: Done 600 out of 600 | elapsed:  1.8min finished\n",
      "[Parallel(n_jobs=3)]: Done  44 tasks      | elapsed:    8.6s\n",
      "[Parallel(n_jobs=3)]: Done 194 tasks      | elapsed:   37.9s\n",
      "[Parallel(n_jobs=3)]: Done 444 tasks      | elapsed:  1.6min\n",
      "[Parallel(n_jobs=3)]: Done 600 out of 600 | elapsed:  2.1min finished\n"
     ]
    },
    {
     "name": "stdout",
     "output_type": "stream",
     "text": [
      "\n",
      "      Iter       Train Loss      OOB Improve   Remaining Time \n",
      "         1           1.3825           0.0036           59.99s\n",
      "         2           1.3789           0.0034           58.80s\n",
      "         3           1.3754           0.0033           57.55s\n",
      "         4           1.3719           0.0032           57.00s\n",
      "         5           1.3686           0.0033           56.28s\n",
      "         6           1.3650           0.0031           55.76s\n",
      "         7           1.3618           0.0031           55.32s\n",
      "         8           1.3582           0.0028           54.58s\n",
      "         9           1.3554           0.0029           54.29s\n",
      "        10           1.3523           0.0030           53.40s\n",
      "        20           1.3237           0.0024           46.56s\n",
      "        30           1.2989           0.0019           40.16s\n",
      "        40           1.2783           0.0016           34.00s\n",
      "        50           1.2614           0.0014           28.44s\n",
      "        60           1.2438           0.0012           22.78s\n",
      "        70           1.2297           0.0009           17.18s\n",
      "        80           1.2213           0.0008           11.45s\n",
      "        90           1.2095           0.0007            5.72s\n",
      "       100           1.2015           0.0006            0.00s"
     ]
    },
    {
     "name": "stderr",
     "output_type": "stream",
     "text": [
      "[Parallel(n_jobs=3)]: Done  44 tasks      | elapsed:    3.1s\n",
      "[Parallel(n_jobs=3)]: Done 194 tasks      | elapsed:   13.5s\n",
      "[Parallel(n_jobs=3)]: Done 444 tasks      | elapsed:   31.1s\n",
      "[Parallel(n_jobs=3)]: Done 600 out of 600 | elapsed:   41.9s finished\n",
      "[Parallel(n_jobs=3)]: Done  44 tasks      | elapsed:    0.0s\n",
      "[Parallel(n_jobs=3)]: Done 194 tasks      | elapsed:    0.2s\n",
      "[Parallel(n_jobs=3)]: Done 444 tasks      | elapsed:    0.4s\n",
      "[Parallel(n_jobs=3)]: Done 600 out of 600 | elapsed:    0.6s finished\n",
      "[Parallel(n_jobs=3)]: Done  44 tasks      | elapsed:    0.0s\n",
      "[Parallel(n_jobs=3)]: Done 194 tasks      | elapsed:    0.1s\n",
      "[Parallel(n_jobs=3)]: Done 444 tasks      | elapsed:    0.4s\n",
      "[Parallel(n_jobs=3)]: Done 600 out of 600 | elapsed:    0.6s finished\n",
      "[Parallel(n_jobs=3)]: Done  44 tasks      | elapsed:    0.0s\n",
      "[Parallel(n_jobs=3)]: Done 194 tasks      | elapsed:    0.2s\n",
      "[Parallel(n_jobs=3)]: Done 444 tasks      | elapsed:    0.5s\n",
      "[Parallel(n_jobs=3)]: Done 600 out of 600 | elapsed:    0.8s finished\n",
      "[Parallel(n_jobs=3)]: Done  44 tasks      | elapsed:    0.0s\n",
      "[Parallel(n_jobs=3)]: Done 194 tasks      | elapsed:    0.2s\n",
      "[Parallel(n_jobs=3)]: Done 444 tasks      | elapsed:    0.6s\n",
      "[Parallel(n_jobs=3)]: Done 600 out of 600 | elapsed:    0.7s finished\n"
     ]
    },
    {
     "name": "stdout",
     "output_type": "stream",
     "text": [
      "\n",
      "Fold"
     ]
    },
    {
     "name": "stderr",
     "output_type": "stream",
     "text": [
      "[Parallel(n_jobs=3)]: Done  44 tasks      | elapsed:    9.0s\n",
      "[Parallel(n_jobs=3)]: Done 194 tasks      | elapsed:   41.6s\n",
      "[Parallel(n_jobs=3)]: Done 444 tasks      | elapsed:  1.6min\n",
      "[Parallel(n_jobs=3)]: Done 600 out of 600 | elapsed:  2.2min finished\n"
     ]
    },
    {
     "name": "stdout",
     "output_type": "stream",
     "text": [
      " 5\n",
      "      Iter       Train Loss      OOB Improve   Remaining Time \n",
      "         1           1.3785           0.0072            2.57m\n",
      "         2           1.3710           0.0068            2.52m\n",
      "         3           1.3635           0.0058            2.49m\n",
      "         4           1.3567           0.0063            2.48m\n",
      "         5           1.3501           0.0059            2.49m\n",
      "         6           1.3434           0.0056            2.45m\n",
      "         7           1.3373           0.0053            2.40m\n",
      "         8           1.3313           0.0054            2.40m\n",
      "         9           1.3248           0.0042            2.46m\n",
      "        10           1.3192           0.0046            2.43m\n",
      "        20           1.2713           0.0032            2.26m\n",
      "        30           1.2335           0.0020            2.02m\n",
      "        40           1.2067           0.0014            1.83m\n",
      "        50           1.1827           0.0009            1.66m\n",
      "        60           1.1637           0.0006            1.50m\n",
      "        70           1.1496           0.0004            1.36m\n",
      "        80           1.1358           0.0005            1.20m\n",
      "        90           1.1241           0.0002            1.05m\n",
      "       100           1.1128          -0.0000           53.45s"
     ]
    },
    {
     "name": "stderr",
     "output_type": "stream",
     "text": [
      "[Parallel(n_jobs=3)]: Done  44 tasks      | elapsed:    7.6s\n",
      "[Parallel(n_jobs=3)]: Done 194 tasks      | elapsed:   33.9s\n",
      "[Parallel(n_jobs=3)]: Done 444 tasks      | elapsed:  1.3min\n",
      "[Parallel(n_jobs=3)]: Done 600 out of 600 | elapsed:  1.7min finished\n",
      "[Parallel(n_jobs=3)]: Done  44 tasks      | elapsed:   10.2s\n",
      "[Parallel(n_jobs=3)]: Done 194 tasks      | elapsed:   51.2s\n",
      "[Parallel(n_jobs=3)]: Done 444 tasks      | elapsed:  1.9min\n",
      "[Parallel(n_jobs=3)]: Done 600 out of 600 | elapsed:  2.5min finished\n"
     ]
    },
    {
     "name": "stdout",
     "output_type": "stream",
     "text": [
      "\n",
      "      Iter       Train Loss      OOB Improve   Remaining Time \n",
      "         1           1.3826           0.0032           59.30s\n",
      "         2           1.3791           0.0031           58.70s\n",
      "         3           1.3758           0.0032           57.68s\n",
      "         4           1.3724           0.0031           58.30s\n",
      "         5           1.3690           0.0029           57.95s\n",
      "         6           1.3659           0.0030           57.07s\n",
      "         7           1.3627           0.0030           56.37s\n",
      "         8           1.3595           0.0028           55.61s\n",
      "         9           1.3567           0.0028           54.93s\n",
      "        10           1.3534           0.0028           54.23s\n",
      "        20           1.3261           0.0023           47.93s\n",
      "        30           1.3019           0.0018           42.11s\n",
      "        40           1.2820           0.0016           36.43s\n",
      "        50           1.2660           0.0013           33.28s\n",
      "        60           1.2492           0.0010           27.16s\n",
      "        70           1.2378           0.0009           20.07s\n",
      "        80           1.2270           0.0009           13.15s\n",
      "        90           1.2175           0.0007            6.48s\n",
      "       100           1.2064           0.0005            0.00s"
     ]
    },
    {
     "name": "stderr",
     "output_type": "stream",
     "text": [
      "[Parallel(n_jobs=3)]: Done  44 tasks      | elapsed:    3.1s\n",
      "[Parallel(n_jobs=3)]: Done 194 tasks      | elapsed:   13.7s\n",
      "[Parallel(n_jobs=3)]: Done 444 tasks      | elapsed:   31.1s\n",
      "[Parallel(n_jobs=3)]: Done 600 out of 600 | elapsed:   42.2s finished\n",
      "[Parallel(n_jobs=3)]: Done  44 tasks      | elapsed:    0.0s\n",
      "[Parallel(n_jobs=3)]: Done 194 tasks      | elapsed:    0.2s\n",
      "[Parallel(n_jobs=3)]: Done 444 tasks      | elapsed:    0.5s\n",
      "[Parallel(n_jobs=3)]: Done 600 out of 600 | elapsed:    0.7s finished\n",
      "[Parallel(n_jobs=3)]: Done  44 tasks      | elapsed:    0.0s\n",
      "[Parallel(n_jobs=3)]: Done 194 tasks      | elapsed:    0.1s\n",
      "[Parallel(n_jobs=3)]: Done 444 tasks      | elapsed:    0.4s\n",
      "[Parallel(n_jobs=3)]: Done 600 out of 600 | elapsed:    0.6s finished\n",
      "[Parallel(n_jobs=3)]: Done  44 tasks      | elapsed:    0.0s\n",
      "[Parallel(n_jobs=3)]: Done 194 tasks      | elapsed:    0.1s\n",
      "[Parallel(n_jobs=3)]: Done 444 tasks      | elapsed:    0.5s\n",
      "[Parallel(n_jobs=3)]: Done 600 out of 600 | elapsed:    0.7s finished\n",
      "[Parallel(n_jobs=3)]: Done  44 tasks      | elapsed:    0.0s\n",
      "[Parallel(n_jobs=3)]: Done 194 tasks      | elapsed:    0.1s\n",
      "[Parallel(n_jobs=3)]: Done 444 tasks      | elapsed:    0.4s\n",
      "[Parallel(n_jobs=3)]: Done 600 out of 600 | elapsed:    0.6s finished\n"
     ]
    },
    {
     "name": "stdout",
     "output_type": "stream",
     "text": [
      "\n",
      "0.682022820772\n"
     ]
    }
   ],
   "source": [
    "# Selecting startified sampling\n",
    "nfolds=5\n",
    "skf = list(StratifiedKFold(target,nfolds,random_state=2))\n",
    "\n",
    "for i, (trainIndex, testIndex) in enumerate(skf):\n",
    "    print \"Fold\", i+1\n",
    "    X_train = df.iloc[trainIndex,]\n",
    "    y_train = target[trainIndex]\n",
    "    X_test = df.iloc[testIndex,]\n",
    "    y_test = target[testIndex]\n",
    "    eclf.fit(X_train, y_train)\n",
    "    predictions[testIndex] = eclf.predict_proba(X_test)[:,1]\n",
    "    \n",
    "for i in range(0,predictions.shape[0]):\n",
    "    if predictions[i]>0.5:\n",
    "        predictions[i]=1\n",
    "    else:\n",
    "        predictions[i]=0  \n",
    "print metrics.accuracy_score(predictions,target)"
   ]
  },
  {
   "cell_type": "code",
   "execution_count": null,
   "metadata": {
    "collapsed": true
   },
   "outputs": [],
   "source": []
  }
 ],
 "metadata": {
  "kernelspec": {
   "display_name": "Python 2",
   "language": "python",
   "name": "python2"
  },
  "language_info": {
   "codemirror_mode": {
    "name": "ipython",
    "version": 2
   },
   "file_extension": ".py",
   "mimetype": "text/x-python",
   "name": "python",
   "nbconvert_exporter": "python",
   "pygments_lexer": "ipython2",
   "version": "2.7.11"
  }
 },
 "nbformat": 4,
 "nbformat_minor": 0
}
